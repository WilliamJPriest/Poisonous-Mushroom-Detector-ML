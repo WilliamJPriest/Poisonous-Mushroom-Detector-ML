{
  "nbformat": 4,
  "nbformat_minor": 0,
  "metadata": {
    "colab": {
      "provenance": []
    },
    "kernelspec": {
      "name": "python3",
      "display_name": "Python 3"
    },
    "language_info": {
      "name": "python"
    }
  },
  "cells": [
    {
      "cell_type": "markdown",
      "source": [
        "# Breast Cancer Detection AI"
      ],
      "metadata": {
        "id": "Kk763gYInWjP"
      }
    },
    {
      "cell_type": "code",
      "execution_count": null,
      "metadata": {
        "id": "w3VcWLfonGf2",
        "colab": {
          "base_uri": "https://localhost:8080/"
        },
        "outputId": "b9c2b11a-edbe-4538-c62f-71ce0ba3bca4"
      },
      "outputs": [
        {
          "output_type": "stream",
          "name": "stdout",
          "text": [
            "      p  x  s  n  t p.1  f  c n.1  k  e e.1 s.1 s.2  w w.1 p.2 w.2  o p.3 k.1  \\\n",
            "0     e  x  s  y  t   a  f  c   b  k  e   c   s   s  w   w   p   w  o   p   n   \n",
            "1     e  b  s  w  t   l  f  c   b  n  e   c   s   s  w   w   p   w  o   p   n   \n",
            "2     p  x  y  w  t   p  f  c   n  n  e   e   s   s  w   w   p   w  o   p   k   \n",
            "3     e  x  s  g  f   n  f  w   b  k  t   e   s   s  w   w   p   w  o   e   n   \n",
            "4     e  x  y  y  t   a  f  c   b  n  e   c   s   s  w   w   p   w  o   p   k   \n",
            "...  .. .. .. .. ..  .. .. ..  .. .. ..  ..  ..  .. ..  ..  ..  .. ..  ..  ..   \n",
            "8118  e  k  s  n  f   n  a  c   b  y  e   ?   s   s  o   o   p   o  o   p   b   \n",
            "8119  e  x  s  n  f   n  a  c   b  y  e   ?   s   s  o   o   p   n  o   p   b   \n",
            "8120  e  f  s  n  f   n  a  c   b  n  e   ?   s   s  o   o   p   o  o   p   b   \n",
            "8121  p  k  y  n  f   y  f  c   n  b  t   ?   s   k  w   w   p   w  o   e   w   \n",
            "8122  e  x  s  n  f   n  a  c   b  y  e   ?   s   s  o   o   p   o  o   p   o   \n",
            "\n",
            "     s.3  u  \n",
            "0      n  g  \n",
            "1      n  m  \n",
            "2      s  u  \n",
            "3      a  g  \n",
            "4      n  g  \n",
            "...   .. ..  \n",
            "8118   c  l  \n",
            "8119   v  l  \n",
            "8120   c  l  \n",
            "8121   v  l  \n",
            "8122   c  l  \n",
            "\n",
            "[8123 rows x 23 columns]\n"
          ]
        }
      ],
      "source": [
        "import pandas as pd\n",
        "\n",
        "file = pd.read_csv(\"/content/agaricus-lepiota.data\")\n",
        "\n",
        "print(file)"
      ]
    },
    {
      "cell_type": "code",
      "source": [
        "x = file.drop(columns=[\"p\"])"
      ],
      "metadata": {
        "id": "YC4dkfNspu8W"
      },
      "execution_count": null,
      "outputs": []
    },
    {
      "cell_type": "code",
      "source": [
        "y = file[\"p\"]\n",
        "file.dtypes"
      ],
      "metadata": {
        "id": "z-j0K1MSq05i",
        "colab": {
          "base_uri": "https://localhost:8080/"
        },
        "outputId": "cafee5b7-0841-495e-d911-a1f82e3b23bc"
      },
      "execution_count": null,
      "outputs": [
        {
          "output_type": "execute_result",
          "data": {
            "text/plain": [
              "p      object\n",
              "x      object\n",
              "s      object\n",
              "n      object\n",
              "t      object\n",
              "p.1    object\n",
              "f      object\n",
              "c      object\n",
              "n.1    object\n",
              "k      object\n",
              "e      object\n",
              "e.1    object\n",
              "s.1    object\n",
              "s.2    object\n",
              "w      object\n",
              "w.1    object\n",
              "p.2    object\n",
              "w.2    object\n",
              "o      object\n",
              "p.3    object\n",
              "k.1    object\n",
              "s.3    object\n",
              "u      object\n",
              "dtype: object"
            ]
          },
          "metadata": {},
          "execution_count": 152
        }
      ]
    },
    {
      "cell_type": "code",
      "source": [
        "# convert category data to numerical \n",
        "\n",
        "from sklearn.preprocessing import OneHotEncoder\n",
        "from sklearn.compose import ColumnTransformer\n",
        "\n",
        "cf= [\"x\",\"s\",\"n\",\"t\",\"p.1\",\"f\", \"c\", \"n.1\",\"k\",\"e\",\"e.1\",\"s.1\",\"s.2\",\"w\",\"w.1\",\"p.2\",\"w.2\",\"o\",\"p.3\",\"k.1\",\"s.3\",\"u\"]\n",
        "oh= OneHotEncoder()\n",
        "transformer = ColumnTransformer([(\"one hot\", oh,cf)], remainder=\"passthrough\")\n",
        "transformx = transformer.fit_transform(x)\n",
        "transformx\n",
        "\n",
        "\n"
      ],
      "metadata": {
        "colab": {
          "base_uri": "https://localhost:8080/"
        },
        "id": "ZuAEv6YP1B8U",
        "outputId": "48b9665f-01f8-4a6d-a3a0-a2a319af542a"
      },
      "execution_count": null,
      "outputs": [
        {
          "output_type": "execute_result",
          "data": {
            "text/plain": [
              "<8123x117 sparse matrix of type '<class 'numpy.float64'>'\n",
              "\twith 178706 stored elements in Compressed Sparse Row format>"
            ]
          },
          "metadata": {},
          "execution_count": 153
        }
      ]
    },
    {
      "cell_type": "code",
      "source": [
        "from sklearn.model_selection import train_test_split\n",
        "\n",
        "train_x,test_x, train_y,test_y = train_test_split(transformx,y, test_size=0.2)"
      ],
      "metadata": {
        "id": "jiItTksCrZ_W"
      },
      "execution_count": null,
      "outputs": []
    },
    {
      "cell_type": "code",
      "source": [
        "from sklearn.ensemble import RandomForestClassifier\n",
        "clf = RandomForestClassifier(criterion= \"gini\", max_depth= 8, min_samples_split=10, random_state = 5)\n"
      ],
      "metadata": {
        "id": "AhFG2QFytQpq"
      },
      "execution_count": null,
      "outputs": []
    },
    {
      "cell_type": "code",
      "source": [
        "clf.fit(train_x,train_y)"
      ],
      "metadata": {
        "colab": {
          "base_uri": "https://localhost:8080/",
          "height": 74
        },
        "id": "9a4EcW005LTJ",
        "outputId": "15edcd8c-ad7f-4fec-d9ee-12e654dc312c"
      },
      "execution_count": null,
      "outputs": [
        {
          "output_type": "execute_result",
          "data": {
            "text/plain": [
              "RandomForestClassifier(max_depth=8, min_samples_split=10)"
            ],
            "text/html": [
              "<style>#sk-container-id-3 {color: black;background-color: white;}#sk-container-id-3 pre{padding: 0;}#sk-container-id-3 div.sk-toggleable {background-color: white;}#sk-container-id-3 label.sk-toggleable__label {cursor: pointer;display: block;width: 100%;margin-bottom: 0;padding: 0.3em;box-sizing: border-box;text-align: center;}#sk-container-id-3 label.sk-toggleable__label-arrow:before {content: \"▸\";float: left;margin-right: 0.25em;color: #696969;}#sk-container-id-3 label.sk-toggleable__label-arrow:hover:before {color: black;}#sk-container-id-3 div.sk-estimator:hover label.sk-toggleable__label-arrow:before {color: black;}#sk-container-id-3 div.sk-toggleable__content {max-height: 0;max-width: 0;overflow: hidden;text-align: left;background-color: #f0f8ff;}#sk-container-id-3 div.sk-toggleable__content pre {margin: 0.2em;color: black;border-radius: 0.25em;background-color: #f0f8ff;}#sk-container-id-3 input.sk-toggleable__control:checked~div.sk-toggleable__content {max-height: 200px;max-width: 100%;overflow: auto;}#sk-container-id-3 input.sk-toggleable__control:checked~label.sk-toggleable__label-arrow:before {content: \"▾\";}#sk-container-id-3 div.sk-estimator input.sk-toggleable__control:checked~label.sk-toggleable__label {background-color: #d4ebff;}#sk-container-id-3 div.sk-label input.sk-toggleable__control:checked~label.sk-toggleable__label {background-color: #d4ebff;}#sk-container-id-3 input.sk-hidden--visually {border: 0;clip: rect(1px 1px 1px 1px);clip: rect(1px, 1px, 1px, 1px);height: 1px;margin: -1px;overflow: hidden;padding: 0;position: absolute;width: 1px;}#sk-container-id-3 div.sk-estimator {font-family: monospace;background-color: #f0f8ff;border: 1px dotted black;border-radius: 0.25em;box-sizing: border-box;margin-bottom: 0.5em;}#sk-container-id-3 div.sk-estimator:hover {background-color: #d4ebff;}#sk-container-id-3 div.sk-parallel-item::after {content: \"\";width: 100%;border-bottom: 1px solid gray;flex-grow: 1;}#sk-container-id-3 div.sk-label:hover label.sk-toggleable__label {background-color: #d4ebff;}#sk-container-id-3 div.sk-serial::before {content: \"\";position: absolute;border-left: 1px solid gray;box-sizing: border-box;top: 0;bottom: 0;left: 50%;z-index: 0;}#sk-container-id-3 div.sk-serial {display: flex;flex-direction: column;align-items: center;background-color: white;padding-right: 0.2em;padding-left: 0.2em;position: relative;}#sk-container-id-3 div.sk-item {position: relative;z-index: 1;}#sk-container-id-3 div.sk-parallel {display: flex;align-items: stretch;justify-content: center;background-color: white;position: relative;}#sk-container-id-3 div.sk-item::before, #sk-container-id-3 div.sk-parallel-item::before {content: \"\";position: absolute;border-left: 1px solid gray;box-sizing: border-box;top: 0;bottom: 0;left: 50%;z-index: -1;}#sk-container-id-3 div.sk-parallel-item {display: flex;flex-direction: column;z-index: 1;position: relative;background-color: white;}#sk-container-id-3 div.sk-parallel-item:first-child::after {align-self: flex-end;width: 50%;}#sk-container-id-3 div.sk-parallel-item:last-child::after {align-self: flex-start;width: 50%;}#sk-container-id-3 div.sk-parallel-item:only-child::after {width: 0;}#sk-container-id-3 div.sk-dashed-wrapped {border: 1px dashed gray;margin: 0 0.4em 0.5em 0.4em;box-sizing: border-box;padding-bottom: 0.4em;background-color: white;}#sk-container-id-3 div.sk-label label {font-family: monospace;font-weight: bold;display: inline-block;line-height: 1.2em;}#sk-container-id-3 div.sk-label-container {text-align: center;}#sk-container-id-3 div.sk-container {/* jupyter's `normalize.less` sets `[hidden] { display: none; }` but bootstrap.min.css set `[hidden] { display: none !important; }` so we also need the `!important` here to be able to override the default hidden behavior on the sphinx rendered scikit-learn.org. See: https://github.com/scikit-learn/scikit-learn/issues/21755 */display: inline-block !important;position: relative;}#sk-container-id-3 div.sk-text-repr-fallback {display: none;}</style><div id=\"sk-container-id-3\" class=\"sk-top-container\"><div class=\"sk-text-repr-fallback\"><pre>RandomForestClassifier(max_depth=8, min_samples_split=10)</pre><b>In a Jupyter environment, please rerun this cell to show the HTML representation or trust the notebook. <br />On GitHub, the HTML representation is unable to render, please try loading this page with nbviewer.org.</b></div><div class=\"sk-container\" hidden><div class=\"sk-item\"><div class=\"sk-estimator sk-toggleable\"><input class=\"sk-toggleable__control sk-hidden--visually\" id=\"sk-estimator-id-3\" type=\"checkbox\" checked><label for=\"sk-estimator-id-3\" class=\"sk-toggleable__label sk-toggleable__label-arrow\">RandomForestClassifier</label><div class=\"sk-toggleable__content\"><pre>RandomForestClassifier(max_depth=8, min_samples_split=10)</pre></div></div></div></div></div>"
            ]
          },
          "metadata": {},
          "execution_count": 172
        }
      ]
    },
    {
      "cell_type": "code",
      "source": [
        "clf.score(test_x,test_y)"
      ],
      "metadata": {
        "id": "GC7gVDco6ySz",
        "colab": {
          "base_uri": "https://localhost:8080/"
        },
        "outputId": "5700cb25-297d-47f8-c084-2d55e210f0e2"
      },
      "execution_count": null,
      "outputs": [
        {
          "output_type": "execute_result",
          "data": {
            "text/plain": [
              "1.0"
            ]
          },
          "metadata": {},
          "execution_count": 173
        }
      ]
    }
  ]
}